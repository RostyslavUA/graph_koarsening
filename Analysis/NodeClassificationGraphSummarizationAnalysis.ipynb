{
 "cells": [
  {
   "cell_type": "code",
   "execution_count": 70,
   "id": "17d68927-5c13-4430-ae22-f68356a046f6",
   "metadata": {
    "pycharm": {
     "name": "#%%\n"
    }
   },
   "outputs": [],
   "source": [
    "import matplotlib.pyplot as plt\n",
    "import numpy as np\n",
    "import os\n",
    "import pandas as pd\n",
    "import seaborn as sns"
   ]
  },
  {
   "cell_type": "code",
   "execution_count": 71,
   "id": "9bebe899-b1cd-41e4-b3d0-6d1d05000e32",
   "metadata": {
    "pycharm": {
     "name": "#%%\n"
    }
   },
   "outputs": [],
   "source": [
    "RESULTS_BASE_DIR = \"../results/nodeClassificationGraphSummarization5RandomSplits\""
   ]
  },
  {
   "cell_type": "code",
   "execution_count": 72,
   "id": "14a49c71",
   "metadata": {},
   "outputs": [],
   "source": [
    "df_res = pd.read_csv(os.path.join(RESULTS_BASE_DIR, \"results.csv\"))\n",
    "name_map = {\n",
    "    \"NodeClassificationConvolutionMatchingSGCNCoarsener\": \"ConvMatch\",\n",
    "    \"NodeClassificationApproximateConvolutionMatchingSGCNCoarsener\": \"ApproxConvMatch\",\n",
    "    \"NodeClassificationGKSummarizer\": \"GK\"\n",
    "}\n",
    "\n",
    "df_res[\"GraphSummarizer\"] = df_res[\"GraphSummarizer\"].replace(name_map)\n"
   ]
  },
  {
   "cell_type": "code",
   "execution_count": 73,
   "id": "482d2c4e",
   "metadata": {},
   "outputs": [
    {
     "data": {
      "text/plain": [
       "Index(['Graph Summarization Time(s)', 'Training Time(s)', 'Test Evaluation',\n",
       "       'Validation Evaluation', 'dataset', 'split', 'GraphSummarizer', 'r',\n",
       "       'p_from', 'depth', 'recoarsen_every', 'model', 'n_layers',\n",
       "       'hidden_layer_sizes', 'use_layer_norm', 'use_edge_weights',\n",
       "       'use_input_layer', 'log_softmax', 'softmax_output', 'dropout',\n",
       "       'learning_loss', 'optimizer', 'lr', 'weight_decay', 'epochs', 'seed',\n",
       "       'Max GPU memory (B)'],\n",
       "      dtype='object')"
      ]
     },
     "execution_count": 73,
     "metadata": {},
     "output_type": "execute_result"
    }
   ],
   "source": [
    "df_res.keys()"
   ]
  },
  {
   "cell_type": "code",
   "execution_count": 74,
   "id": "540c8650",
   "metadata": {},
   "outputs": [],
   "source": [
    "df_res = df_res[df_res['dataset'] == 'Cora']"
   ]
  },
  {
   "cell_type": "code",
   "execution_count": 75,
   "id": "e1a2c128",
   "metadata": {},
   "outputs": [],
   "source": [
    "df_res['Total Time(s)'] = df_res['Training Time(s)'] + df_res['Graph Summarization Time(s)']"
   ]
  },
  {
   "cell_type": "code",
   "execution_count": 76,
   "id": "ef7c0a97",
   "metadata": {},
   "outputs": [],
   "source": [
    "df_agg = df_res.groupby(['GraphSummarizer', \"r\", \"model\", \"dataset\", \"recoarsen_every\", \"epochs\", \"hidden_layer_sizes\"], dropna=False).agg(\n",
    "    mean_test=(\"Test Evaluation\", \"mean\"),\n",
    "    std_test=(\"Test Evaluation\", \"std\"),\n",
    "    mean_val=(\"Validation Evaluation\", \"mean\"),\n",
    "    std_val=(\"Validation Evaluation\", \"std\"),\n",
    "    mean_sumtime=('Graph Summarization Time(s)', \"mean\"),\n",
    "    std_sumtime=('Graph Summarization Time(s)', \"std\"),\n",
    "    mean_traintime=('Training Time(s)', \"mean\"),\n",
    "    std_traintime=('Training Time(s)', \"std\"),\n",
    "    mean_tottime=('Total Time(s)', \"mean\"),\n",
    "    std_tottime=('Total Time(s)', \"std\")\n",
    ").reset_index()\n",
    "for col in [\"val\", \"test\", \"sumtime\", \"traintime\", \"tottime\"]:\n",
    "    df_agg[col] = df_agg[f\"mean_{col}\"].round(4).astype(str) + \" ± \" + df_agg[f\"std_{col}\"].round(4).astype(str)\n",
    "    df_agg = df_agg.drop(columns=[f\"mean_{col}\", f\"std_{col}\"])"
   ]
  },
  {
   "cell_type": "code",
   "execution_count": 77,
   "id": "d8c4ea39",
   "metadata": {},
   "outputs": [
    {
     "data": {
      "text/html": [
       "<div>\n",
       "<style scoped>\n",
       "    .dataframe tbody tr th:only-of-type {\n",
       "        vertical-align: middle;\n",
       "    }\n",
       "\n",
       "    .dataframe tbody tr th {\n",
       "        vertical-align: top;\n",
       "    }\n",
       "\n",
       "    .dataframe thead th {\n",
       "        text-align: right;\n",
       "    }\n",
       "</style>\n",
       "<table border=\"1\" class=\"dataframe\">\n",
       "  <thead>\n",
       "    <tr style=\"text-align: right;\">\n",
       "      <th></th>\n",
       "      <th>GraphSummarizer</th>\n",
       "      <th>r</th>\n",
       "      <th>model</th>\n",
       "      <th>dataset</th>\n",
       "      <th>recoarsen_every</th>\n",
       "      <th>epochs</th>\n",
       "      <th>hidden_layer_sizes</th>\n",
       "      <th>val</th>\n",
       "      <th>test</th>\n",
       "      <th>sumtime</th>\n",
       "      <th>traintime</th>\n",
       "      <th>tottime</th>\n",
       "    </tr>\n",
       "  </thead>\n",
       "  <tbody>\n",
       "    <tr>\n",
       "      <th>0</th>\n",
       "      <td>GK</td>\n",
       "      <td>0.05</td>\n",
       "      <td>GCN</td>\n",
       "      <td>Cora</td>\n",
       "      <td>50</td>\n",
       "      <td>600</td>\n",
       "      <td>256</td>\n",
       "      <td>0.7619 ± 0.0271</td>\n",
       "      <td>0.7315 ± 0.0201</td>\n",
       "      <td>0.0 ± 0.0</td>\n",
       "      <td>36.5654 ± 1.998</td>\n",
       "      <td>36.5654 ± 1.998</td>\n",
       "    </tr>\n",
       "    <tr>\n",
       "      <th>1</th>\n",
       "      <td>GK</td>\n",
       "      <td>0.10</td>\n",
       "      <td>GCN</td>\n",
       "      <td>Cora</td>\n",
       "      <td>50</td>\n",
       "      <td>600</td>\n",
       "      <td>256</td>\n",
       "      <td>0.7957 ± 0.0204</td>\n",
       "      <td>0.7647 ± 0.0195</td>\n",
       "      <td>0.0 ± 0.0</td>\n",
       "      <td>33.7705 ± 0.3859</td>\n",
       "      <td>33.7705 ± 0.3859</td>\n",
       "    </tr>\n",
       "    <tr>\n",
       "      <th>2</th>\n",
       "      <td>GK</td>\n",
       "      <td>0.25</td>\n",
       "      <td>GCN</td>\n",
       "      <td>Cora</td>\n",
       "      <td>50</td>\n",
       "      <td>600</td>\n",
       "      <td>256</td>\n",
       "      <td>0.8188 ± 0.0194</td>\n",
       "      <td>0.7939 ± 0.019</td>\n",
       "      <td>0.0 ± 0.0</td>\n",
       "      <td>40.3183 ± 1.8721</td>\n",
       "      <td>40.3183 ± 1.8721</td>\n",
       "    </tr>\n",
       "  </tbody>\n",
       "</table>\n",
       "</div>"
      ],
      "text/plain": [
       "  GraphSummarizer     r model dataset  recoarsen_every  epochs  \\\n",
       "0              GK  0.05   GCN    Cora               50     600   \n",
       "1              GK  0.10   GCN    Cora               50     600   \n",
       "2              GK  0.25   GCN    Cora               50     600   \n",
       "\n",
       "   hidden_layer_sizes              val             test    sumtime  \\\n",
       "0                 256  0.7619 ± 0.0271  0.7315 ± 0.0201  0.0 ± 0.0   \n",
       "1                 256  0.7957 ± 0.0204  0.7647 ± 0.0195  0.0 ± 0.0   \n",
       "2                 256  0.8188 ± 0.0194   0.7939 ± 0.019  0.0 ± 0.0   \n",
       "\n",
       "          traintime           tottime  \n",
       "0   36.5654 ± 1.998   36.5654 ± 1.998  \n",
       "1  33.7705 ± 0.3859  33.7705 ± 0.3859  \n",
       "2  40.3183 ± 1.8721  40.3183 ± 1.8721  "
      ]
     },
     "execution_count": 77,
     "metadata": {},
     "output_type": "execute_result"
    }
   ],
   "source": [
    "df_agg"
   ]
  },
  {
   "cell_type": "code",
   "execution_count": null,
   "id": "b53ff088",
   "metadata": {},
   "outputs": [],
   "source": []
  }
 ],
 "metadata": {
  "kernelspec": {
   "display_name": "Python 3",
   "language": "python",
   "name": "python3"
  },
  "language_info": {
   "codemirror_mode": {
    "name": "ipython",
    "version": 3
   },
   "file_extension": ".py",
   "mimetype": "text/x-python",
   "name": "python",
   "nbconvert_exporter": "python",
   "pygments_lexer": "ipython3",
   "version": "3.8.10"
  }
 },
 "nbformat": 4,
 "nbformat_minor": 5
}
